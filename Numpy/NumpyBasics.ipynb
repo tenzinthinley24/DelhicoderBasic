{
 "cells": [
  {
   "cell_type": "code",
   "execution_count": 9,
   "id": "02b08fc5-7ea6-47b1-9d08-ab293fbc533d",
   "metadata": {},
   "outputs": [
    {
     "name": "stdout",
     "output_type": "stream",
     "text": [
      "[0, 2, 4, 6, 8, 10, 12, 14, 16, 18]\n",
      "0.205169677734375\n"
     ]
    }
   ],
   "source": [
    "import numpy as np\n",
    "import time\n",
    "\n",
    "size=1_000_000\n",
    "\n",
    "l1=list(range(size))\n",
    "l2=list(range(size))\n",
    "start=time.time()\n",
    "add=[x+y for x,y in zip(l1,l2)]\n",
    "end=time.time()\n",
    "print(add[0:10])\n",
    "print(end - start)\n",
    "\n"
   ]
  },
  {
   "cell_type": "code",
   "execution_count": 11,
   "id": "5d8aa4a2-68b0-41ad-94e9-0173f7757462",
   "metadata": {},
   "outputs": [
    {
     "name": "stdout",
     "output_type": "stream",
     "text": [
      "[ 0  2  4  6  8 10 12 14 16 18]\n",
      "0.033489227294921875\n"
     ]
    }
   ],
   "source": [
    "import numpy as np\n",
    "import time\n",
    "\n",
    "size=1_000_000\n",
    "\n",
    "arr1=np.array(list(range(size)))\n",
    "arr2=np.array(list(range(size)))\n",
    "\n",
    "start=time.time()\n",
    "add=arr1+arr2\n",
    "print(add[0:10])\n",
    "end=time.time()\n",
    "print(end - start)\n"
   ]
  },
  {
   "cell_type": "code",
   "execution_count": 13,
   "id": "9f55280a-bb86-4272-9ea3-e03cce978da7",
   "metadata": {},
   "outputs": [
    {
     "data": {
      "text/plain": [
       "array([1, 2, 3, 4, 5, 6])"
      ]
     },
     "execution_count": 13,
     "metadata": {},
     "output_type": "execute_result"
    }
   ],
   "source": [
    "np.array([1,2,3,4,5,6])"
   ]
  },
  {
   "cell_type": "code",
   "execution_count": 19,
   "id": "c4222864-9419-48db-a96c-eee47bbcc34f",
   "metadata": {},
   "outputs": [],
   "source": [
    "arr=np.array([[1,2,3],[4,5,6]])"
   ]
  },
  {
   "cell_type": "code",
   "execution_count": 21,
   "id": "fe16261e-b40a-456a-8ef6-2cda01de1770",
   "metadata": {},
   "outputs": [
    {
     "data": {
      "text/plain": [
       "numpy.ndarray"
      ]
     },
     "execution_count": 21,
     "metadata": {},
     "output_type": "execute_result"
    }
   ],
   "source": [
    "type(arr)"
   ]
  },
  {
   "cell_type": "code",
   "execution_count": 25,
   "id": "0abaeeda-e8cb-419d-b03d-12e1ba176844",
   "metadata": {},
   "outputs": [
    {
     "data": {
      "text/plain": [
       "(2, 3)"
      ]
     },
     "execution_count": 25,
     "metadata": {},
     "output_type": "execute_result"
    }
   ],
   "source": [
    "arr.shape"
   ]
  },
  {
   "cell_type": "code",
   "execution_count": 27,
   "id": "a2922234-45cc-4e01-9c35-6d77669bbb91",
   "metadata": {},
   "outputs": [
    {
     "name": "stdout",
     "output_type": "stream",
     "text": [
      "Python list size: 8056000 bytes\n",
      "NumPy array size: 4000 bytes\n"
     ]
    }
   ],
   "source": [
    "import sys\n",
    "\n",
    "list_data = list(range(1000))\n",
    "numpy_data = np.array(list_data)\n",
    "\n",
    "print(\"Python list size:\", sys.getsizeof(list_data) * len(list_data), \"bytes\")\n",
    "print(\"NumPy array size:\", numpy_data.nbytes, \"bytes\")"
   ]
  },
  {
   "cell_type": "code",
   "execution_count": 33,
   "id": "91a85f98-c97f-49f2-9b85-133e2722454c",
   "metadata": {},
   "outputs": [
    {
     "name": "stdout",
     "output_type": "stream",
     "text": [
      "0.0010061264038085938\n"
     ]
    }
   ],
   "source": [
    "import numpy as np\n",
    "import time\n",
    "\n",
    "size=1_000_00\n",
    "\n",
    "arr1=np.array(list(range(size)))\n",
    "\n",
    "\n",
    "start=time.time()\n",
    "numpy_square=arr1**2\n",
    "end=time.time()\n",
    "print(end - start)"
   ]
  },
  {
   "cell_type": "code",
   "execution_count": 35,
   "id": "61289607-4fce-4b4b-aac0-0224282ac8e7",
   "metadata": {},
   "outputs": [
    {
     "name": "stdout",
     "output_type": "stream",
     "text": [
      "0.015390396118164062\n"
     ]
    }
   ],
   "source": [
    "import numpy as np\n",
    "import time\n",
    "\n",
    "size=1_000_00\n",
    "\n",
    "l1=list(range(size))\n",
    "\n",
    "start=time.time()\n",
    "list_square=[x**2 for x in l1]\n",
    "\n",
    "end=time.time()\n",
    "\n",
    "print(end - start)"
   ]
  },
  {
   "cell_type": "code",
   "execution_count": null,
   "id": "47964e1a-9307-453e-ac8c-003beb49fc0f",
   "metadata": {},
   "outputs": [],
   "source": []
  }
 ],
 "metadata": {
  "kernelspec": {
   "display_name": "Python [conda env:base] *",
   "language": "python",
   "name": "conda-base-py"
  },
  "language_info": {
   "codemirror_mode": {
    "name": "ipython",
    "version": 3
   },
   "file_extension": ".py",
   "mimetype": "text/x-python",
   "name": "python",
   "nbconvert_exporter": "python",
   "pygments_lexer": "ipython3",
   "version": "3.12.7"
  }
 },
 "nbformat": 4,
 "nbformat_minor": 5
}
