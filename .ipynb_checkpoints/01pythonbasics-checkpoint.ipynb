{
 "cells": [
  {
   "cell_type": "code",
   "execution_count": 1,
   "id": "256b4cca-0157-4875-8908-b1a80f4d1154",
   "metadata": {},
   "outputs": [],
   "source": [
    "a =4"
   ]
  },
  {
   "cell_type": "code",
   "execution_count": 2,
   "id": "50b5d25d-d81d-45f8-8d43-8127dcab31d1",
   "metadata": {},
   "outputs": [],
   "source": [
    "b=4"
   ]
  },
  {
   "cell_type": "code",
   "execution_count": 3,
   "id": "87eaaca2-87ba-4ec3-abfe-90cf386046ec",
   "metadata": {},
   "outputs": [
    {
     "data": {
      "text/plain": [
       "8"
      ]
     },
     "execution_count": 3,
     "metadata": {},
     "output_type": "execute_result"
    }
   ],
   "source": [
    "a+b"
   ]
  },
  {
   "cell_type": "code",
   "execution_count": 12,
   "id": "6f14a9fa-f2e8-4dc3-acda-c929e3244011",
   "metadata": {},
   "outputs": [],
   "source": [
    "str = \"zoe\""
   ]
  },
  {
   "cell_type": "code",
   "execution_count": 16,
   "id": "b391a2ed-79ae-4a51-873f-8d79681fd187",
   "metadata": {},
   "outputs": [
    {
     "name": "stdout",
     "output_type": "stream",
     "text": [
      "zoe\n"
     ]
    }
   ],
   "source": [
    "print (str)"
   ]
  },
  {
   "cell_type": "code",
   "execution_count": 20,
   "id": "3bedaf4b-46cb-443d-b7a2-1db8c5077b8f",
   "metadata": {},
   "outputs": [],
   "source": [
    "# this is a comment"
   ]
  },
  {
   "cell_type": "code",
   "execution_count": 24,
   "id": "68a787c1-7a63-44bf-82de-c1e510d87075",
   "metadata": {},
   "outputs": [
    {
     "name": "stdout",
     "output_type": "stream",
     "text": [
      "<class 'int'>\n"
     ]
    }
   ],
   "source": [
    "print(type(a))"
   ]
  },
  {
   "cell_type": "code",
   "execution_count": 26,
   "id": "5099bc85-a809-4217-be8f-b78c81b3ddfb",
   "metadata": {},
   "outputs": [
    {
     "name": "stdout",
     "output_type": "stream",
     "text": [
      "<class 'str'>\n"
     ]
    }
   ],
   "source": [
    "print(type(str))"
   ]
  },
  {
   "cell_type": "code",
   "execution_count": 28,
   "id": "c6653858-f6a3-4369-b856-b1a26e246b2b",
   "metadata": {},
   "outputs": [
    {
     "data": {
      "text/plain": [
       "str"
      ]
     },
     "execution_count": 28,
     "metadata": {},
     "output_type": "execute_result"
    }
   ],
   "source": [
    "#type casting\n",
    "type(str)"
   ]
  },
  {
   "cell_type": "code",
   "execution_count": 30,
   "id": "5c7ed5ab-7502-4b64-ae6b-7c2d28b77307",
   "metadata": {},
   "outputs": [],
   "source": [
    "a=\"12\""
   ]
  },
  {
   "cell_type": "code",
   "execution_count": 32,
   "id": "d3675e5a-b379-4c2e-a028-a39dcc8d1107",
   "metadata": {},
   "outputs": [],
   "source": [
    "b=\"34\""
   ]
  },
  {
   "cell_type": "code",
   "execution_count": 34,
   "id": "ba0c5d35-8005-4cdc-8d3d-9d4b595bcf2f",
   "metadata": {},
   "outputs": [
    {
     "name": "stdout",
     "output_type": "stream",
     "text": [
      "46\n"
     ]
    }
   ],
   "source": [
    "print(int(a)+int(b))"
   ]
  },
  {
   "cell_type": "code",
   "execution_count": 36,
   "id": "b875c79f-978e-497e-8c73-527e7d5d3b9e",
   "metadata": {},
   "outputs": [
    {
     "data": {
      "text/plain": [
       "'1234'"
      ]
     },
     "execution_count": 36,
     "metadata": {},
     "output_type": "execute_result"
    }
   ],
   "source": [
    "a + b"
   ]
  },
  {
   "cell_type": "markdown",
   "id": "383bf352-f552-4bf2-837c-9b73c19f8480",
   "metadata": {},
   "source": [
    "# Strings "
   ]
  },
  {
   "cell_type": "code",
   "execution_count": 40,
   "id": "3f231fbb-acb3-4453-85b7-94a54c9df646",
   "metadata": {},
   "outputs": [],
   "source": [
    "name =\"tenzin\""
   ]
  },
  {
   "cell_type": "code",
   "execution_count": 42,
   "id": "c6aef9c3-611a-40ab-a37a-3ec8145ab21f",
   "metadata": {},
   "outputs": [
    {
     "data": {
      "text/plain": [
       "'tenzin'"
      ]
     },
     "execution_count": 42,
     "metadata": {},
     "output_type": "execute_result"
    }
   ],
   "source": [
    "name"
   ]
  },
  {
   "cell_type": "code",
   "execution_count": 44,
   "id": "eaa09e5d-0a1d-4456-8bf8-156074678119",
   "metadata": {},
   "outputs": [
    {
     "data": {
      "text/plain": [
       "'TENZIN'"
      ]
     },
     "execution_count": 44,
     "metadata": {},
     "output_type": "execute_result"
    }
   ],
   "source": [
    "name.upper()"
   ]
  },
  {
   "cell_type": "code",
   "execution_count": 46,
   "id": "1a345fa9-2c94-470c-83fc-18428e23e482",
   "metadata": {},
   "outputs": [
    {
     "data": {
      "text/plain": [
       "True"
      ]
     },
     "execution_count": 46,
     "metadata": {},
     "output_type": "execute_result"
    }
   ],
   "source": [
    "name.endswith(\"in\")\n"
   ]
  },
  {
   "cell_type": "code",
   "execution_count": 48,
   "id": "a3b6469c-65c8-4cf0-b81c-e71c932cfaff",
   "metadata": {},
   "outputs": [
    {
     "data": {
      "text/plain": [
       "'tenzin'"
      ]
     },
     "execution_count": 48,
     "metadata": {},
     "output_type": "execute_result"
    }
   ],
   "source": [
    "name.lower()"
   ]
  },
  {
   "cell_type": "code",
   "execution_count": 52,
   "id": "6e926f8e-6775-4d62-9da8-6d782f0f3587",
   "metadata": {},
   "outputs": [
    {
     "data": {
      "text/plain": [
       "1"
      ]
     },
     "execution_count": 52,
     "metadata": {},
     "output_type": "execute_result"
    }
   ],
   "source": [
    "name.count(\"e\")\n"
   ]
  },
  {
   "cell_type": "code",
   "execution_count": 54,
   "id": "d5a2022b-f7e4-40d1-b899-850b6f3cd137",
   "metadata": {},
   "outputs": [
    {
     "data": {
      "text/plain": [
       "2"
      ]
     },
     "execution_count": 54,
     "metadata": {},
     "output_type": "execute_result"
    }
   ],
   "source": [
    "name.count(\"n\")\n",
    "\n"
   ]
  },
  {
   "cell_type": "code",
   "execution_count": 60,
   "id": "490e4c1c-fa3b-4e26-a875-406a5125726e",
   "metadata": {},
   "outputs": [
    {
     "data": {
      "text/plain": [
       "6"
      ]
     },
     "execution_count": 60,
     "metadata": {},
     "output_type": "execute_result"
    }
   ],
   "source": [
    "len(name)"
   ]
  },
  {
   "cell_type": "code",
   "execution_count": 62,
   "id": "cb052063-3f55-4199-a2f9-af2ea8621444",
   "metadata": {},
   "outputs": [],
   "source": [
    "s=\"  hello \""
   ]
  },
  {
   "cell_type": "code",
   "execution_count": 68,
   "id": "172bc36e-2bf9-40bc-9ec1-fba0b1efeed4",
   "metadata": {},
   "outputs": [
    {
     "name": "stdout",
     "output_type": "stream",
     "text": [
      "hello\n"
     ]
    }
   ],
   "source": [
    "print(s.strip())"
   ]
  },
  {
   "cell_type": "code",
   "execution_count": 70,
   "id": "a5330e06-a7a5-416d-b952-dd0564de0dea",
   "metadata": {},
   "outputs": [
    {
     "data": {
      "text/plain": [
       "'  h'"
      ]
     },
     "execution_count": 70,
     "metadata": {},
     "output_type": "execute_result"
    }
   ],
   "source": [
    "s[0:3]"
   ]
  },
  {
   "cell_type": "code",
   "execution_count": 72,
   "id": "2ef9b88f-4375-4ebb-9293-4600ed2e0f5c",
   "metadata": {},
   "outputs": [
    {
     "data": {
      "text/plain": [
       "'tenz'"
      ]
     },
     "execution_count": 72,
     "metadata": {},
     "output_type": "execute_result"
    }
   ],
   "source": [
    "name[0:4]"
   ]
  },
  {
   "cell_type": "code",
   "execution_count": 74,
   "id": "8acb8418-8908-48dc-920f-973093d6744d",
   "metadata": {},
   "outputs": [
    {
     "data": {
      "text/plain": [
       "'enzi'"
      ]
     },
     "execution_count": 74,
     "metadata": {},
     "output_type": "execute_result"
    }
   ],
   "source": [
    "name[1:-1]"
   ]
  },
  {
   "cell_type": "code",
   "execution_count": 76,
   "id": "5143b0d1-c982-482b-aa2d-13a50b3b7382",
   "metadata": {},
   "outputs": [
    {
     "data": {
      "text/plain": [
       "'enzin'"
      ]
     },
     "execution_count": 76,
     "metadata": {},
     "output_type": "execute_result"
    }
   ],
   "source": [
    "name[1:]"
   ]
  },
  {
   "cell_type": "code",
   "execution_count": 80,
   "id": "f1744f24-d4dc-4f64-a9ae-b146105ba854",
   "metadata": {},
   "outputs": [
    {
     "data": {
      "text/plain": [
       "'enzi'"
      ]
     },
     "execution_count": 80,
     "metadata": {},
     "output_type": "execute_result"
    }
   ],
   "source": [
    "name[1:5] #to convert negative index to positive add lenth of string to it"
   ]
  },
  {
   "cell_type": "code",
   "execution_count": null,
   "id": "b10aba42-3b87-41cf-a23d-d89c7e75480c",
   "metadata": {},
   "outputs": [],
   "source": []
  },
  {
   "cell_type": "code",
   "execution_count": null,
   "id": "31841c17-7ccd-4659-a0a7-a323ef464860",
   "metadata": {},
   "outputs": [],
   "source": []
  }
 ],
 "metadata": {
  "kernelspec": {
   "display_name": "Python [conda env:base] *",
   "language": "python",
   "name": "conda-base-py"
  },
  "language_info": {
   "codemirror_mode": {
    "name": "ipython",
    "version": 3
   },
   "file_extension": ".py",
   "mimetype": "text/x-python",
   "name": "python",
   "nbconvert_exporter": "python",
   "pygments_lexer": "ipython3",
   "version": "3.12.7"
  }
 },
 "nbformat": 4,
 "nbformat_minor": 5
}
