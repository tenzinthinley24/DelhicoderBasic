{
 "cells": [
  {
   "cell_type": "code",
   "execution_count": 1,
   "id": "23562353-3668-4a13-bb52-5e46ae18f8bc",
   "metadata": {},
   "outputs": [],
   "source": [
    "import json"
   ]
  },
  {
   "cell_type": "code",
   "execution_count": 14,
   "id": "8bbe0f76-db7d-46b7-a1e2-1e7f2c5c2b44",
   "metadata": {},
   "outputs": [],
   "source": [
    "#Lets write a function to load data\n",
    "def load_data(filename):\n",
    "    with open(filename,\"r\")as f:\n",
    "        data=json.load(f)\n",
    "    return data"
   ]
  },
  {
   "cell_type": "code",
   "execution_count": 19,
   "id": "610641ac-f840-4e11-adab-03fcb2b35003",
   "metadata": {},
   "outputs": [],
   "source": [
    "data=load_data(\"datas.json\")"
   ]
  },
  {
   "cell_type": "code",
   "execution_count": 21,
   "id": "6a98a268-6299-419e-bccc-1ccecf9a1270",
   "metadata": {},
   "outputs": [
    {
     "data": {
      "text/plain": [
       "{'users': [{'id': 1, 'name': 'Amit', 'friends': [2, 3], 'liked_pages': [101]},\n",
       "  {'id': 2, 'name': 'Priya', 'friends': [1, 4], 'liked_pages': [102]},\n",
       "  {'id': 3, 'name': 'Rahul', 'friends': [1], 'liked_pages': [101, 103]},\n",
       "  {'id': 4, 'name': 'Sara', 'friends': [2], 'liked_pages': [104]}],\n",
       " 'pages': [{'id': 101, 'name': 'Python Developers'},\n",
       "  {'id': 102, 'name': 'Data Science Enthusiasts'},\n",
       "  {'id': 103, 'name': 'AI & ML Community'},\n",
       "  {'id': 104, 'name': 'Web Dev Hub'}]}"
      ]
     },
     "execution_count": 21,
     "metadata": {},
     "output_type": "execute_result"
    }
   ],
   "source": [
    "data"
   ]
  },
  {
   "cell_type": "code",
   "execution_count": 25,
   "id": "34956f61-8cff-46fe-bd72-7146a5dad031",
   "metadata": {},
   "outputs": [
    {
     "data": {
      "text/plain": [
       "dict"
      ]
     },
     "execution_count": 25,
     "metadata": {},
     "output_type": "execute_result"
    }
   ],
   "source": [
    "type(data)"
   ]
  },
  {
   "cell_type": "code",
   "execution_count": 41,
   "id": "e2aa192d-cc30-4644-8bae-494a8ca5fdd6",
   "metadata": {},
   "outputs": [
    {
     "name": "stdout",
     "output_type": "stream",
     "text": [
      "User and their connections:\n",
      "\n",
      "ID: 1 -> Amit is friends with :[2, 3] and liked pages are[101]\n",
      "ID: 2 -> Priya is friends with :[1, 4] and liked pages are[102]\n",
      "ID: 3 -> Rahul is friends with :[1] and liked pages are[101, 103]\n",
      "ID: 4 -> Sara is friends with :[2] and liked pages are[104]\n",
      "\n",
      "Pages Information\n",
      "101: Python Developers\n",
      "102: Data Science Enthusiasts\n",
      "103: AI & ML Community\n",
      "104: Web Dev Hub\n"
     ]
    }
   ],
   "source": [
    "#function to dispay user and their connection\n",
    "def display_user(data):\n",
    "    print(\"User and their connections:\\n\")\n",
    "    for user in data['users']:\n",
    "        print(f\"ID: {user['id']} -> {user['name']} is friends with :{user['friends']} and liked pages are{user['liked_pages']}\")\n",
    "    print(\"\\nPages Information\")    \n",
    "    for page in data['pages']:\n",
    "        print(f\"{page['id']}: {page['name']}\")\n",
    "\n",
    "display_user(data)"
   ]
  },
  {
   "cell_type": "code",
   "execution_count": null,
   "id": "d291db57-8f47-4528-bc13-416740f9d95f",
   "metadata": {},
   "outputs": [],
   "source": []
  }
 ],
 "metadata": {
  "kernelspec": {
   "display_name": "Python [conda env:base] *",
   "language": "python",
   "name": "conda-base-py"
  },
  "language_info": {
   "codemirror_mode": {
    "name": "ipython",
    "version": 3
   },
   "file_extension": ".py",
   "mimetype": "text/x-python",
   "name": "python",
   "nbconvert_exporter": "python",
   "pygments_lexer": "ipython3",
   "version": "3.12.7"
  }
 },
 "nbformat": 4,
 "nbformat_minor": 5
}
