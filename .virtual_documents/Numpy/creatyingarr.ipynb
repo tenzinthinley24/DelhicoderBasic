import numpy as np



arr =np.array([2,13,432,53])


arr


np.zeros((3,3))


np.ones((3,4))


np.full((2,2),6)


np.eye(3,3)


np.arange(1,10,2)


np.linspace(1,100,5)


myarr=np.array([[1,2,3],[4,5,6],[7,8,9]])


myarr.shape
myarr.size
myarr.ndim



myarr.dtype


arr =np.array([2,13,432,53],dtype='float32')


arr.dtype


n=arr.astype('float64')


arr.dtype


n.dtype


myarr=np.array([[1,2,3],[4,5,6],[7,8,9],[23,54,67]])


reshaped=myarr.reshape((3,4))


reshaped


myarr.reshape((6,2))


myarr.flatten()





import numpy as np



arr=np.array([[1,2,3],[4,5,6],[7,8,9]])


flat=arr.flatten()


flat


flat[0]






flat[3:6]


flat[:5] #same as flat[0:5]


flat[::2]


b=flat[3:7].copy()


b[0]=34


b


flat


arr=np.array([1,24,45,643,6,32,63])


arr[[1,4,6]]


arr[arr>3]





arr>24


arr[arr>24]





import numpy as np

arr = np.array([[1, 2, 3], 
                [4, 5, 6], 
                [7, 8, 9]])

print(arr)


arr[0]


arr[1]


print(np.sum(arr,axis=1))


arr[0][1]


arr[0:2,2:3]


arr3D = np.array([[[1, 2, 3], [4, 5, 6]],
                  [[7, 8, 9], [10, 11, 12]]])

# Output of arr3D.shape is → (depth, rows, columns)
print(arr3D.shape)  # Output: (2, 2, 3) 


# First sheet, second row, third column
print(arr3D[0, 1, 2])  # Output: 6

print(arr3D[:, 0, :])   # Get the first row from both sheets


arr3D[:,0,:]=0


arr3D



