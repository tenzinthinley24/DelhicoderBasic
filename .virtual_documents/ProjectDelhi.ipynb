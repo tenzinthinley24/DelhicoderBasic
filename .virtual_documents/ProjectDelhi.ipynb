import json


#Lets write a function to load data
def load_data(filename):
    with open(filename,"r")as f:
        data=json.load(f)
    return data


data=load_data("datas.json")


data


type(data)


#function to dispay user and their connection
def display_user(data):
    print("User and their connections:\n")
    for user in data['users']:
        print(f"ID: {user['id']} -> {user['name']} is friends with :{user['friends']} and liked pages are{user['liked_pages']}")
    print("\nPages Information")    
    for page in data['pages']:
        print(f"{page['id']}: {page['name']}")

display_user(data)





import json

def clean_data(data):
    #remove user with missing name
    data["users"]=[user for user in data["users"] if user["name"].strip()]
    #to remove duplicate friends
    for user in data["users"]: 
        user["friends"]=list(set(user['friends']))
    #remove inactive user
    data['users']=[user for user in data['users'] if user['friends'] or user['liked_pages']]

    #remve duplicate pages
    unique_pages={}
    for page in data['pages']:
        unique_pages[page['id']]=page
    data['pages']=list(unique_pages.values())
        
    
    return data
    


#load data

data=json.load(open("data2.json"))
data=clean_data(data)
json.dump(data, open("cleaned_data2.json","w"),indent=4)
print("Data has been cleaned successfully")





import json


def load_data(filename):
    with open(filename,"r")as f:
        return json.load(f)
def findpeopleuknow(user_id, data):
    user_friends={}
    for user in data['users']:
        user_friends[user['id']]=set(user['friends'])
    if user_id not in user_friends:
        return []
    direct_friends=user_friends[user_id]
    suggestions={}
    for friend in direct_friends:
        for mutual in user_friends[friend]:
            if mutual!=user_id and mutual not in direct_friends:
                #count mutual frnds
                suggestions[mutual]=suggestions.get(mutual,0)+ 1
    sorted_suggestions=sorted(suggestions.items(),key=lambda x:x[1],reverse=True)
    return [user_id for user_id,mutual_count in sorted_suggestions]
#load data
data=load_data("datas.json")
user_id=1
recomd=findpeopleuknow(user_id,data)
print(recomd)






import json

#function to load json data
def load_data(filename):
    with open(filename,"r") as f :
        return json.load(f)

def pagesumightlike(user_id,data):
    user_pages={}
    for user in data['users']:
        user_pages[user['id']]=set(user['liked_pages'])
    #if the user is not found return empty list
    if user_id not in user_pages:
        return []
    user_liked_pages=user_pages[user_id]
    page_suggestion={}

    for other_user,pages in user_pages.items():
        if other_user !=user_id:
            shared_pages=user_liked_pages.intersection(pages)
        for page in pages:
            if page not in user_liked_pages:
                page_suggestion[page]=page_suggestion.get(page,0) + len(shared_pages)

    sorted_pages=sorted(page_suggestion.items(),key=lambda x:x[1],reverse=True)
    return [page_id for page_id,score in sorted_pages]

data=load_data("datas.json")
user_id=1
page_recomd=pagesumightlike(user_id,data)
print(page_recomd)
            
        


!git init



!git config --global user.name "tenzinthinley24"
!git config --global user.email "tenzinthinley4065@gmail.com"


!git add.



