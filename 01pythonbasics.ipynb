{
 "cells": [
  {
   "cell_type": "code",
   "execution_count": 1,
   "id": "256b4cca-0157-4875-8908-b1a80f4d1154",
   "metadata": {},
   "outputs": [],
   "source": [
    "a =4"
   ]
  },
  {
   "cell_type": "code",
   "execution_count": 2,
   "id": "50b5d25d-d81d-45f8-8d43-8127dcab31d1",
   "metadata": {},
   "outputs": [],
   "source": [
    "b=4"
   ]
  },
  {
   "cell_type": "code",
   "execution_count": 3,
   "id": "87eaaca2-87ba-4ec3-abfe-90cf386046ec",
   "metadata": {},
   "outputs": [
    {
     "data": {
      "text/plain": [
       "8"
      ]
     },
     "execution_count": 3,
     "metadata": {},
     "output_type": "execute_result"
    }
   ],
   "source": [
    "a+b"
   ]
  },
  {
   "cell_type": "code",
   "execution_count": 12,
   "id": "6f14a9fa-f2e8-4dc3-acda-c929e3244011",
   "metadata": {},
   "outputs": [],
   "source": [
    "str = \"zoe\""
   ]
  },
  {
   "cell_type": "code",
   "execution_count": 16,
   "id": "b391a2ed-79ae-4a51-873f-8d79681fd187",
   "metadata": {},
   "outputs": [
    {
     "name": "stdout",
     "output_type": "stream",
     "text": [
      "zoe\n"
     ]
    }
   ],
   "source": [
    "print (str)"
   ]
  },
  {
   "cell_type": "code",
   "execution_count": 20,
   "id": "3bedaf4b-46cb-443d-b7a2-1db8c5077b8f",
   "metadata": {},
   "outputs": [],
   "source": [
    "# this is a comment"
   ]
  },
  {
   "cell_type": "code",
   "execution_count": 24,
   "id": "68a787c1-7a63-44bf-82de-c1e510d87075",
   "metadata": {},
   "outputs": [
    {
     "name": "stdout",
     "output_type": "stream",
     "text": [
      "<class 'int'>\n"
     ]
    }
   ],
   "source": [
    "print(type(a))"
   ]
  },
  {
   "cell_type": "code",
   "execution_count": 26,
   "id": "5099bc85-a809-4217-be8f-b78c81b3ddfb",
   "metadata": {},
   "outputs": [
    {
     "name": "stdout",
     "output_type": "stream",
     "text": [
      "<class 'str'>\n"
     ]
    }
   ],
   "source": [
    "print(type(str))"
   ]
  },
  {
   "cell_type": "code",
   "execution_count": 28,
   "id": "c6653858-f6a3-4369-b856-b1a26e246b2b",
   "metadata": {},
   "outputs": [
    {
     "data": {
      "text/plain": [
       "str"
      ]
     },
     "execution_count": 28,
     "metadata": {},
     "output_type": "execute_result"
    }
   ],
   "source": [
    "#type casting\n",
    "type(str)"
   ]
  },
  {
   "cell_type": "code",
   "execution_count": 30,
   "id": "5c7ed5ab-7502-4b64-ae6b-7c2d28b77307",
   "metadata": {},
   "outputs": [],
   "source": [
    "a=\"12\""
   ]
  },
  {
   "cell_type": "code",
   "execution_count": 32,
   "id": "d3675e5a-b379-4c2e-a028-a39dcc8d1107",
   "metadata": {},
   "outputs": [],
   "source": [
    "b=\"34\""
   ]
  },
  {
   "cell_type": "code",
   "execution_count": 34,
   "id": "ba0c5d35-8005-4cdc-8d3d-9d4b595bcf2f",
   "metadata": {},
   "outputs": [
    {
     "name": "stdout",
     "output_type": "stream",
     "text": [
      "46\n"
     ]
    }
   ],
   "source": [
    "print(int(a)+int(b))"
   ]
  },
  {
   "cell_type": "code",
   "execution_count": 36,
   "id": "b875c79f-978e-497e-8c73-527e7d5d3b9e",
   "metadata": {},
   "outputs": [
    {
     "data": {
      "text/plain": [
       "'1234'"
      ]
     },
     "execution_count": 36,
     "metadata": {},
     "output_type": "execute_result"
    }
   ],
   "source": [
    "a + b"
   ]
  },
  {
   "cell_type": "markdown",
   "id": "383bf352-f552-4bf2-837c-9b73c19f8480",
   "metadata": {},
   "source": [
    "# Strings "
   ]
  },
  {
   "cell_type": "code",
   "execution_count": 40,
   "id": "3f231fbb-acb3-4453-85b7-94a54c9df646",
   "metadata": {},
   "outputs": [],
   "source": [
    "name =\"tenzin\""
   ]
  },
  {
   "cell_type": "code",
   "execution_count": 42,
   "id": "c6aef9c3-611a-40ab-a37a-3ec8145ab21f",
   "metadata": {},
   "outputs": [
    {
     "data": {
      "text/plain": [
       "'tenzin'"
      ]
     },
     "execution_count": 42,
     "metadata": {},
     "output_type": "execute_result"
    }
   ],
   "source": [
    "name"
   ]
  },
  {
   "cell_type": "code",
   "execution_count": 44,
   "id": "eaa09e5d-0a1d-4456-8bf8-156074678119",
   "metadata": {},
   "outputs": [
    {
     "data": {
      "text/plain": [
       "'TENZIN'"
      ]
     },
     "execution_count": 44,
     "metadata": {},
     "output_type": "execute_result"
    }
   ],
   "source": [
    "name.upper()"
   ]
  },
  {
   "cell_type": "code",
   "execution_count": 46,
   "id": "1a345fa9-2c94-470c-83fc-18428e23e482",
   "metadata": {},
   "outputs": [
    {
     "data": {
      "text/plain": [
       "True"
      ]
     },
     "execution_count": 46,
     "metadata": {},
     "output_type": "execute_result"
    }
   ],
   "source": [
    "name.endswith(\"in\")\n"
   ]
  },
  {
   "cell_type": "code",
   "execution_count": 48,
   "id": "a3b6469c-65c8-4cf0-b81c-e71c932cfaff",
   "metadata": {},
   "outputs": [
    {
     "data": {
      "text/plain": [
       "'tenzin'"
      ]
     },
     "execution_count": 48,
     "metadata": {},
     "output_type": "execute_result"
    }
   ],
   "source": [
    "name.lower()"
   ]
  },
  {
   "cell_type": "code",
   "execution_count": 52,
   "id": "6e926f8e-6775-4d62-9da8-6d782f0f3587",
   "metadata": {},
   "outputs": [
    {
     "data": {
      "text/plain": [
       "1"
      ]
     },
     "execution_count": 52,
     "metadata": {},
     "output_type": "execute_result"
    }
   ],
   "source": [
    "name.count(\"e\")\n"
   ]
  },
  {
   "cell_type": "code",
   "execution_count": 54,
   "id": "d5a2022b-f7e4-40d1-b899-850b6f3cd137",
   "metadata": {},
   "outputs": [
    {
     "data": {
      "text/plain": [
       "2"
      ]
     },
     "execution_count": 54,
     "metadata": {},
     "output_type": "execute_result"
    }
   ],
   "source": [
    "name.count(\"n\")\n",
    "\n"
   ]
  },
  {
   "cell_type": "code",
   "execution_count": 60,
   "id": "490e4c1c-fa3b-4e26-a875-406a5125726e",
   "metadata": {},
   "outputs": [
    {
     "data": {
      "text/plain": [
       "6"
      ]
     },
     "execution_count": 60,
     "metadata": {},
     "output_type": "execute_result"
    }
   ],
   "source": [
    "len(name)"
   ]
  },
  {
   "cell_type": "code",
   "execution_count": 62,
   "id": "cb052063-3f55-4199-a2f9-af2ea8621444",
   "metadata": {},
   "outputs": [],
   "source": [
    "s=\"  hello \""
   ]
  },
  {
   "cell_type": "code",
   "execution_count": 68,
   "id": "172bc36e-2bf9-40bc-9ec1-fba0b1efeed4",
   "metadata": {},
   "outputs": [
    {
     "name": "stdout",
     "output_type": "stream",
     "text": [
      "hello\n"
     ]
    }
   ],
   "source": [
    "print(s.strip())"
   ]
  },
  {
   "cell_type": "code",
   "execution_count": 70,
   "id": "a5330e06-a7a5-416d-b952-dd0564de0dea",
   "metadata": {},
   "outputs": [
    {
     "data": {
      "text/plain": [
       "'  h'"
      ]
     },
     "execution_count": 70,
     "metadata": {},
     "output_type": "execute_result"
    }
   ],
   "source": [
    "s[0:3]"
   ]
  },
  {
   "cell_type": "code",
   "execution_count": 72,
   "id": "2ef9b88f-4375-4ebb-9293-4600ed2e0f5c",
   "metadata": {},
   "outputs": [
    {
     "data": {
      "text/plain": [
       "'tenz'"
      ]
     },
     "execution_count": 72,
     "metadata": {},
     "output_type": "execute_result"
    }
   ],
   "source": [
    "name[0:4]"
   ]
  },
  {
   "cell_type": "code",
   "execution_count": 74,
   "id": "8acb8418-8908-48dc-920f-973093d6744d",
   "metadata": {},
   "outputs": [
    {
     "data": {
      "text/plain": [
       "'enzi'"
      ]
     },
     "execution_count": 74,
     "metadata": {},
     "output_type": "execute_result"
    }
   ],
   "source": [
    "name[1:-1]"
   ]
  },
  {
   "cell_type": "code",
   "execution_count": 76,
   "id": "5143b0d1-c982-482b-aa2d-13a50b3b7382",
   "metadata": {},
   "outputs": [
    {
     "data": {
      "text/plain": [
       "'enzin'"
      ]
     },
     "execution_count": 76,
     "metadata": {},
     "output_type": "execute_result"
    }
   ],
   "source": [
    "name[1:]"
   ]
  },
  {
   "cell_type": "code",
   "execution_count": 80,
   "id": "f1744f24-d4dc-4f64-a9ae-b146105ba854",
   "metadata": {},
   "outputs": [
    {
     "data": {
      "text/plain": [
       "'enzi'"
      ]
     },
     "execution_count": 80,
     "metadata": {},
     "output_type": "execute_result"
    }
   ],
   "source": [
    "name[1:5] #to convert negative index to positive add lenth of string to it"
   ]
  },
  {
   "cell_type": "markdown",
   "id": "800480f8-dcbb-454a-8d9e-59be573a0c4f",
   "metadata": {},
   "source": [
    "# OPERATORS"
   ]
  },
  {
   "cell_type": "code",
   "execution_count": 2,
   "id": "31841c17-7ccd-4659-a0a7-a323ef464860",
   "metadata": {},
   "outputs": [],
   "source": [
    "a=10"
   ]
  },
  {
   "cell_type": "code",
   "execution_count": 4,
   "id": "9ce8c924-81ca-468e-a019-53911a2a1703",
   "metadata": {},
   "outputs": [],
   "source": [
    "b=5"
   ]
  },
  {
   "cell_type": "code",
   "execution_count": 6,
   "id": "ad5c5bbc-3295-412c-ac69-d7200592180d",
   "metadata": {},
   "outputs": [
    {
     "data": {
      "text/plain": [
       "15"
      ]
     },
     "execution_count": 6,
     "metadata": {},
     "output_type": "execute_result"
    }
   ],
   "source": [
    "a+b"
   ]
  },
  {
   "cell_type": "code",
   "execution_count": 8,
   "id": "50809658-db38-4b91-a4de-78f6b1883638",
   "metadata": {},
   "outputs": [
    {
     "data": {
      "text/plain": [
       "4"
      ]
     },
     "execution_count": 8,
     "metadata": {},
     "output_type": "execute_result"
    }
   ],
   "source": [
    "2**2"
   ]
  },
  {
   "cell_type": "code",
   "execution_count": 10,
   "id": "97571e2f-81ba-498e-93ee-6f57495e7e58",
   "metadata": {},
   "outputs": [
    {
     "data": {
      "text/plain": [
       "0"
      ]
     },
     "execution_count": 10,
     "metadata": {},
     "output_type": "execute_result"
    }
   ],
   "source": [
    "a%b\n"
   ]
  },
  {
   "cell_type": "code",
   "execution_count": 12,
   "id": "8cf72aa3-f657-4670-b57a-e2f02f332054",
   "metadata": {},
   "outputs": [
    {
     "data": {
      "text/plain": [
       "False"
      ]
     },
     "execution_count": 12,
     "metadata": {},
     "output_type": "execute_result"
    }
   ],
   "source": [
    "a==b"
   ]
  },
  {
   "cell_type": "code",
   "execution_count": 14,
   "id": "e0363386-f572-43f2-be9a-e0aac39e8507",
   "metadata": {},
   "outputs": [
    {
     "data": {
      "text/plain": [
       "True"
      ]
     },
     "execution_count": 14,
     "metadata": {},
     "output_type": "execute_result"
    }
   ],
   "source": [
    "a != b"
   ]
  },
  {
   "cell_type": "code",
   "execution_count": 20,
   "id": "969e250c-efae-4361-a359-b0ac178f37d4",
   "metadata": {},
   "outputs": [],
   "source": [
    "a1= True\n",
    "b1=False"
   ]
  },
  {
   "cell_type": "code",
   "execution_count": 22,
   "id": "daa18192-0843-4971-b2ba-3f2ac6b755f3",
   "metadata": {},
   "outputs": [
    {
     "data": {
      "text/plain": [
       "True"
      ]
     },
     "execution_count": 22,
     "metadata": {},
     "output_type": "execute_result"
    }
   ],
   "source": [
    "not(b1)"
   ]
  },
  {
   "cell_type": "code",
   "execution_count": 24,
   "id": "b42bbabd-efda-449f-a12d-73990e6a4f64",
   "metadata": {},
   "outputs": [
    {
     "data": {
      "text/plain": [
       "True"
      ]
     },
     "execution_count": 24,
     "metadata": {},
     "output_type": "execute_result"
    }
   ],
   "source": [
    "a1  or b1"
   ]
  },
  {
   "cell_type": "code",
   "execution_count": 26,
   "id": "a1514d20-9095-43cf-a7d1-2d75d0180ede",
   "metadata": {},
   "outputs": [
    {
     "data": {
      "text/plain": [
       "1"
      ]
     },
     "execution_count": 26,
     "metadata": {},
     "output_type": "execute_result"
    }
   ],
   "source": [
    "a=5\n",
    "b=3\n",
    "a & b"
   ]
  },
  {
   "cell_type": "code",
   "execution_count": 28,
   "id": "db86f0f4-d7b7-4494-ae46-051f2d71af8d",
   "metadata": {},
   "outputs": [],
   "source": [
    "a +=4"
   ]
  },
  {
   "cell_type": "code",
   "execution_count": 30,
   "id": "6a704311-2bba-4b1c-ac0e-df56787cf328",
   "metadata": {},
   "outputs": [
    {
     "data": {
      "text/plain": [
       "9"
      ]
     },
     "execution_count": 30,
     "metadata": {},
     "output_type": "execute_result"
    }
   ],
   "source": [
    "a"
   ]
  },
  {
   "cell_type": "markdown",
   "id": "2deaa96f-5db7-496f-be92-8cfaa147c441",
   "metadata": {},
   "source": [
    "Taking input"
   ]
  },
  {
   "cell_type": "code",
   "execution_count": 4,
   "id": "6a2c71f6-fc24-4f45-8606-694e2cc31c6a",
   "metadata": {},
   "outputs": [
    {
     "name": "stdin",
     "output_type": "stream",
     "text": [
      "enter the value:  3\n"
     ]
    }
   ],
   "source": [
    "a =int(input(\"enter the value: \"))"
   ]
  },
  {
   "cell_type": "code",
   "execution_count": 6,
   "id": "a9adcf71-a0ff-44c8-87d4-a5364a8d26ee",
   "metadata": {},
   "outputs": [
    {
     "data": {
      "text/plain": [
       "3"
      ]
     },
     "execution_count": 6,
     "metadata": {},
     "output_type": "execute_result"
    }
   ],
   "source": [
    "a"
   ]
  },
  {
   "cell_type": "code",
   "execution_count": 8,
   "id": "1aae6419-3bc5-472b-8b8a-d202be6694dd",
   "metadata": {},
   "outputs": [
    {
     "name": "stdin",
     "output_type": "stream",
     "text": [
      "enter the string by default:  zoe\n"
     ]
    }
   ],
   "source": [
    "b= input(\"enter the string by default: \")"
   ]
  },
  {
   "cell_type": "code",
   "execution_count": 10,
   "id": "20d0b8ce-ebbc-436c-9bd8-a8839f7cd9a8",
   "metadata": {},
   "outputs": [
    {
     "data": {
      "text/plain": [
       "'zoe'"
      ]
     },
     "execution_count": 10,
     "metadata": {},
     "output_type": "execute_result"
    }
   ],
   "source": [
    "b"
   ]
  },
  {
   "cell_type": "markdown",
   "id": "9bad0acc-f8bc-46bb-bf03-4829a969f556",
   "metadata": {},
   "source": [
    "match case"
   ]
  },
  {
   "cell_type": "code",
   "execution_count": 19,
   "id": "cd6d9a39-7334-46c9-b4d9-6831fd28eaaa",
   "metadata": {},
   "outputs": [],
   "source": [
    "code=299\n"
   ]
  },
  {
   "cell_type": "code",
   "execution_count": 25,
   "id": "0597be3e-a4c7-47fa-aebb-8882a7f507ba",
   "metadata": {},
   "outputs": [
    {
     "name": "stdout",
     "output_type": "stream",
     "text": [
      "nothing matched\n",
      "EOP\n"
     ]
    }
   ],
   "source": [
    "match code:\n",
    "    case 200:\n",
    "        print(\"ok\")\n",
    "    case 400:\n",
    "        print( \"bad response\")\n",
    "    case 404:\n",
    "        print( \"not found\")\n",
    "    case _:\n",
    "        print(\"nothing matched\")\n",
    "print(\"EOP\")"
   ]
  },
  {
   "cell_type": "code",
   "execution_count": 27,
   "id": "9ea1599a-7b63-49bc-a595-3e6e6042fec3",
   "metadata": {},
   "outputs": [
    {
     "name": "stdout",
     "output_type": "stream",
     "text": [
      "Point at (3, 4)\n"
     ]
    }
   ],
   "source": [
    "point = (3, 4)\n",
    "\n",
    "match point:\n",
    "    case (0, 0):\n",
    "        print(\"Origin\")\n",
    "    case (x, 0):\n",
    "        print(f\"X-Axis at {x}\")\n",
    "    case (0, y):\n",
    "        print(f\"Y-Axis at {y}\")\n",
    "    case (x, y):\n",
    "        print(f\"Point at ({x}, {y})\")"
   ]
  },
  {
   "cell_type": "code",
   "execution_count": 3,
   "id": "53937769-428d-428a-85fe-cf456a806d32",
   "metadata": {},
   "outputs": [
    {
     "name": "stdout",
     "output_type": "stream",
     "text": [
      "python    \n",
      "    python\n",
      "  python  \n"
     ]
    }
   ],
   "source": [
    "print(f\"{'python':<10}\")\n",
    "print(f\"{'python':>10}\")\n",
    "print(f\"{'python':^10}\")"
   ]
  },
  {
   "cell_type": "code",
   "execution_count": 6,
   "id": "e9f8e016-0bad-40e8-a988-c44b416637a2",
   "metadata": {},
   "outputs": [],
   "source": [
    "set1={1,2,3,4,5}\n",
    "set2={1,2,4}"
   ]
  },
  {
   "cell_type": "code",
   "execution_count": 8,
   "id": "7787fa6a-a7b8-4a0d-8d3f-8b14b5abeb8a",
   "metadata": {},
   "outputs": [
    {
     "data": {
      "text/plain": [
       "True"
      ]
     },
     "execution_count": 8,
     "metadata": {},
     "output_type": "execute_result"
    }
   ],
   "source": [
    "set2.issubset(set1)"
   ]
  },
  {
   "cell_type": "code",
   "execution_count": 10,
   "id": "3e1e2266-dde9-4d26-b8c4-25d5237c47e7",
   "metadata": {},
   "outputs": [
    {
     "data": {
      "text/plain": [
       "True"
      ]
     },
     "execution_count": 10,
     "metadata": {},
     "output_type": "execute_result"
    }
   ],
   "source": [
    "set1.issuperset(set2)"
   ]
  },
  {
   "cell_type": "markdown",
   "id": "c05281c4-2888-4b01-b07e-f8f0f6ab5c88",
   "metadata": {},
   "source": [
    " # file handling"
   ]
  },
  {
   "cell_type": "code",
   "execution_count": 8,
   "id": "f72a5cbb-dfe8-45cf-bde7-335e841ab8e6",
   "metadata": {},
   "outputs": [],
   "source": [
    "f=open(\"text.txt\",\"r\")"
   ]
  },
  {
   "cell_type": "code",
   "execution_count": 13,
   "id": "aaff621a-e9d3-4079-ac1f-8e9ef2e6d397",
   "metadata": {},
   "outputs": [
    {
     "data": {
      "text/plain": [
       "'text this is for trail'"
      ]
     },
     "execution_count": 13,
     "metadata": {},
     "output_type": "execute_result"
    }
   ],
   "source": [
    "f.read()"
   ]
  },
  {
   "cell_type": "code",
   "execution_count": 15,
   "id": "a71640d2-a0c4-4b41-85a8-f7fc47a081f9",
   "metadata": {},
   "outputs": [],
   "source": [
    "s=\"this is a nice ways to learn datascience\"\n"
   ]
  },
  {
   "cell_type": "code",
   "execution_count": 17,
   "id": "36f0f24e-46ef-4358-8bef-3c1d263956c2",
   "metadata": {},
   "outputs": [],
   "source": [
    "f.close()"
   ]
  },
  {
   "cell_type": "code",
   "execution_count": 19,
   "id": "e7a53e8f-407d-4c6e-b618-7b1ddeb16ca7",
   "metadata": {},
   "outputs": [],
   "source": [
    "f=open(\"ten.txt\",\"w\")"
   ]
  },
  {
   "cell_type": "code",
   "execution_count": 21,
   "id": "78290aa8-9630-449a-83d3-94d12f33966f",
   "metadata": {},
   "outputs": [
    {
     "data": {
      "text/plain": [
       "40"
      ]
     },
     "execution_count": 21,
     "metadata": {},
     "output_type": "execute_result"
    }
   ],
   "source": [
    "f.write(s)"
   ]
  },
  {
   "cell_type": "code",
   "execution_count": 23,
   "id": "72f110ec-7686-420e-b95c-6b6e269147be",
   "metadata": {},
   "outputs": [],
   "source": [
    "f.close()"
   ]
  },
  {
   "cell_type": "code",
   "execution_count": 28,
   "id": "86428ed3-8b7c-4601-81a8-b3caa6bddbb3",
   "metadata": {},
   "outputs": [
    {
     "name": "stdout",
     "output_type": "stream",
     "text": [
      "this is a nice ways to learn datascience\n"
     ]
    }
   ],
   "source": [
    "with open (\"ten.txt\",\"r\") as f:\n",
    "    print(f.read())"
   ]
  },
  {
   "cell_type": "markdown",
   "id": "50d2d493-d93e-45ac-81ad-d869e92cfc68",
   "metadata": {},
   "source": [
    "## json"
   ]
  },
  {
   "cell_type": "code",
   "execution_count": 33,
   "id": "cb377c94-3767-40ae-98d4-671d5020e05a",
   "metadata": {},
   "outputs": [],
   "source": [
    "import json"
   ]
  },
  {
   "cell_type": "code",
   "execution_count": 76,
   "id": "4ed60109-fac5-4902-80be-8e511fa0a667",
   "metadata": {},
   "outputs": [
    {
     "data": {
      "text/plain": [
       "'{\"name\": \"tenzin\", \"company\": \"IBM\", \"salary\": 45666}'"
      ]
     },
     "execution_count": 76,
     "metadata": {},
     "output_type": "execute_result"
    }
   ],
   "source": [
    "obj={\"name\":\"tenzin\",\"company\":\"IBM\" ,\"salary\" : 45666}\n",
    "json.dumps(obj)"
   ]
  },
  {
   "cell_type": "code",
   "execution_count": 78,
   "id": "885caed9-a7df-485e-95ce-c474f3d049c2",
   "metadata": {},
   "outputs": [],
   "source": [
    "d=json.loads('{\"name\":\"tenzin\",\"company\":\"IBM\" ,\"salary\" : 45666}')"
   ]
  },
  {
   "cell_type": "code",
   "execution_count": 80,
   "id": "d3e9c5c5-61ae-4d48-964a-6ba17cd9dc88",
   "metadata": {},
   "outputs": [
    {
     "data": {
      "text/plain": [
       "dict"
      ]
     },
     "execution_count": 80,
     "metadata": {},
     "output_type": "execute_result"
    }
   ],
   "source": [
    "type(d)"
   ]
  },
  {
   "cell_type": "code",
   "execution_count": 82,
   "id": "9dd1190b-7218-4f20-8b27-19520c997388",
   "metadata": {},
   "outputs": [],
   "source": [
    "file =open(\"data.json\",\"w\")\n"
   ]
  },
  {
   "cell_type": "code",
   "execution_count": 84,
   "id": "1085f464-a008-4cd1-952e-5476915e3fbe",
   "metadata": {},
   "outputs": [],
   "source": [
    "json.dump(obj,file)"
   ]
  },
  {
   "cell_type": "code",
   "execution_count": 86,
   "id": "022f60ec-1415-4630-87a5-8ac2cc7bf1ba",
   "metadata": {},
   "outputs": [],
   "source": [
    "file.close()"
   ]
  },
  {
   "cell_type": "markdown",
   "id": "f3fb78b5-4b1d-4dfe-8e4f-b9337a2531b9",
   "metadata": {},
   "source": [
    "# OOPS"
   ]
  },
  {
   "cell_type": "code",
   "execution_count": 95,
   "id": "3cd36758-602f-48ff-9880-e2b5994abb87",
   "metadata": {},
   "outputs": [
    {
     "name": "stdout",
     "output_type": "stream",
     "text": [
      "the company of tenzin is HP with salary300000 \n"
     ]
    }
   ],
   "source": [
    "class employee:\n",
    "    company= \"HP\"\n",
    "    def __init__(self,name,salary):\n",
    "        self.name = name\n",
    "        self.salary = salary\n",
    "        \n",
    "    def printdetails(self):\n",
    "        print(f\"the company of {self.name} is {self.company} with salary{self.salary} \")\n",
    "\n",
    "e= employee(\"tenzin\",300000)\n",
    "e.printdetails()\n",
    "    \n",
    "    "
   ]
  },
  {
   "cell_type": "code",
   "execution_count": 103,
   "id": "137614ca-c639-46b4-bc44-4c6d67530c44",
   "metadata": {},
   "outputs": [
    {
     "name": "stdout",
     "output_type": "stream",
     "text": [
      "the company of tenzin is HP with salary300000 \n",
      "the time is now\n",
      "the company is HP\n"
     ]
    }
   ],
   "source": [
    "class employee:\n",
    "    company= \"HP\"\n",
    "    def __init__(self,name,salary):\n",
    "        self.name = name\n",
    "        self.salary = salary\n",
    "        \n",
    "    def printdetails(self):\n",
    "        print(f\"the company of {self.name} is {self.company} with salary{self.salary} \")\n",
    "    @staticmethod\n",
    "    def printtime():\n",
    "        print(\"the time is now\")\n",
    "\n",
    "    @classmethod\n",
    "    def classdetails(cls):\n",
    "        print(f\"the company is {cls.company}\")\n",
    "\n",
    "\n",
    "e= employee(\"tenzin\",300000)\n",
    "e.printdetails()\n",
    "e.printtime()\n",
    "e.classdetails()"
   ]
  },
  {
   "cell_type": "code",
   "execution_count": 2,
   "id": "97d3fb96-bab0-4ccc-ad08-4aa6c3aaeb60",
   "metadata": {},
   "outputs": [],
   "source": [
    "table=[]"
   ]
  },
  {
   "cell_type": "code",
   "execution_count": 6,
   "id": "22ebd571-671c-4002-8c67-b1dc6cefa4d7",
   "metadata": {},
   "outputs": [
    {
     "name": "stdout",
     "output_type": "stream",
     "text": [
      "2 x 1 = 2\n",
      "2 x 2 = 4\n",
      "2 x 3 = 6\n",
      "2 x 4 = 8\n",
      "2 x 5 = 10\n",
      "2 x 6 = 12\n",
      "2 x 7 = 14\n",
      "2 x 8 = 16\n",
      "2 x 9 = 18\n",
      "2 x 10 = 20\n"
     ]
    }
   ],
   "source": [
    "for i in range(1,11):\n",
    "    print(f\"2 x {i} = {2*i}\")\n",
    "    table.append(2*i)"
   ]
  },
  {
   "cell_type": "code",
   "execution_count": 8,
   "id": "c00a20ac-ecbc-41c8-b2ae-8f4ed145d72a",
   "metadata": {},
   "outputs": [
    {
     "data": {
      "text/plain": [
       "[2, 4, 6, 8, 10, 12, 14, 16, 18, 20]"
      ]
     },
     "execution_count": 8,
     "metadata": {},
     "output_type": "execute_result"
    }
   ],
   "source": [
    "table"
   ]
  },
  {
   "cell_type": "code",
   "execution_count": 10,
   "id": "96f47544-628e-49df-9c7f-e24155397ca4",
   "metadata": {},
   "outputs": [],
   "source": [
    "t=[2*i for i in range (1,11)]"
   ]
  },
  {
   "cell_type": "code",
   "execution_count": 13,
   "id": "e0e35abb-8f05-452f-beb6-44ed6dcf58c1",
   "metadata": {},
   "outputs": [
    {
     "data": {
      "text/plain": [
       "[2, 4, 6, 8, 10, 12, 14, 16, 18, 20]"
      ]
     },
     "execution_count": 13,
     "metadata": {},
     "output_type": "execute_result"
    }
   ],
   "source": [
    "t"
   ]
  },
  {
   "cell_type": "code",
   "execution_count": 23,
   "id": "5469f2b7-8973-49c4-b88d-fe11dc46d56a",
   "metadata": {},
   "outputs": [],
   "source": [
    "t=[2*i for i in range (1,11) if i%2==0]"
   ]
  },
  {
   "cell_type": "code",
   "execution_count": 25,
   "id": "e1722fde-cb30-47d5-bb78-b4df80fe3024",
   "metadata": {},
   "outputs": [
    {
     "data": {
      "text/plain": [
       "[4, 8, 12, 16, 20]"
      ]
     },
     "execution_count": 25,
     "metadata": {},
     "output_type": "execute_result"
    }
   ],
   "source": [
    "t"
   ]
  },
  {
   "cell_type": "code",
   "execution_count": 27,
   "id": "ab5dceb9-2774-40b1-bd00-f457835fda1c",
   "metadata": {},
   "outputs": [],
   "source": [
    "cube=lambda x:x*x*x"
   ]
  },
  {
   "cell_type": "code",
   "execution_count": 29,
   "id": "23e98a1e-447c-4fd4-939c-1797fdf21d89",
   "metadata": {},
   "outputs": [
    {
     "data": {
      "text/plain": [
       "64"
      ]
     },
     "execution_count": 29,
     "metadata": {},
     "output_type": "execute_result"
    }
   ],
   "source": [
    "cube(4)\n"
   ]
  },
  {
   "cell_type": "code",
   "execution_count": 33,
   "id": "0dd10e2c-5a93-4146-8dd2-a8915e91e179",
   "metadata": {},
   "outputs": [],
   "source": [
    "s=lambda x:x*x"
   ]
  },
  {
   "cell_type": "code",
   "execution_count": null,
   "id": "b9ae9cf9-7b67-49e1-9b28-9fa1e1f86ffe",
   "metadata": {},
   "outputs": [],
   "source": [
    "s(2)\n"
   ]
  },
  {
   "cell_type": "code",
   "execution_count": 6,
   "id": "716eb65a-5706-41e2-a1d9-75766e482b59",
   "metadata": {},
   "outputs": [
    {
     "name": "stdout",
     "output_type": "stream",
     "text": [
      "48\n",
      "9\n"
     ]
    }
   ],
   "source": [
    "square=lambda x: x*x\n",
    "sum = lambda x,y:x+y\n",
    "## inline function function in singleline\n",
    "print(sum(3,45))\n",
    "print(square(3))"
   ]
  },
  {
   "cell_type": "code",
   "execution_count": 10,
   "id": "f98ca96a-f658-450f-b26f-588e4259438f",
   "metadata": {},
   "outputs": [
    {
     "name": "stdout",
     "output_type": "stream",
     "text": [
      "[25, 'hello', False, 3.4]\n",
      "[4, 23]\n"
     ]
    }
   ],
   "source": [
    "#List\n",
    "\n",
    "marks=[1,3,4,23,43]\n",
    "mix=[25,\"hello\",False,3.4]\n",
    "\n",
    "print(mix)\n",
    "\n",
    "print(marks[2:4])\n"
   ]
  },
  {
   "cell_type": "code",
   "execution_count": null,
   "id": "86ebdc80-a5fc-40d7-934a-3e901d8bfb65",
   "metadata": {},
   "outputs": [],
   "source": []
  }
 ],
 "metadata": {
  "kernelspec": {
   "display_name": "Python [conda env:base] *",
   "language": "python",
   "name": "conda-base-py"
  },
  "language_info": {
   "codemirror_mode": {
    "name": "ipython",
    "version": 3
   },
   "file_extension": ".py",
   "mimetype": "text/x-python",
   "name": "python",
   "nbconvert_exporter": "python",
   "pygments_lexer": "ipython3",
   "version": "3.12.7"
  }
 },
 "nbformat": 4,
 "nbformat_minor": 5
}
