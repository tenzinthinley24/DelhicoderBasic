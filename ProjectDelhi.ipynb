{
 "cells": [
  {
   "cell_type": "code",
   "execution_count": 1,
   "id": "23562353-3668-4a13-bb52-5e46ae18f8bc",
   "metadata": {},
   "outputs": [],
   "source": [
    "import json"
   ]
  },
  {
   "cell_type": "code",
   "execution_count": 14,
   "id": "8bbe0f76-db7d-46b7-a1e2-1e7f2c5c2b44",
   "metadata": {},
   "outputs": [],
   "source": [
    "#Lets write a function to load data\n",
    "def load_data(filename):\n",
    "    with open(filename,\"r\")as f:\n",
    "        data=json.load(f)\n",
    "    return data"
   ]
  },
  {
   "cell_type": "code",
   "execution_count": 19,
   "id": "610641ac-f840-4e11-adab-03fcb2b35003",
   "metadata": {},
   "outputs": [],
   "source": [
    "data=load_data(\"datas.json\")"
   ]
  },
  {
   "cell_type": "code",
   "execution_count": 21,
   "id": "6a98a268-6299-419e-bccc-1ccecf9a1270",
   "metadata": {},
   "outputs": [
    {
     "data": {
      "text/plain": [
       "{'users': [{'id': 1, 'name': 'Amit', 'friends': [2, 3], 'liked_pages': [101]},\n",
       "  {'id': 2, 'name': 'Priya', 'friends': [1, 4], 'liked_pages': [102]},\n",
       "  {'id': 3, 'name': 'Rahul', 'friends': [1], 'liked_pages': [101, 103]},\n",
       "  {'id': 4, 'name': 'Sara', 'friends': [2], 'liked_pages': [104]}],\n",
       " 'pages': [{'id': 101, 'name': 'Python Developers'},\n",
       "  {'id': 102, 'name': 'Data Science Enthusiasts'},\n",
       "  {'id': 103, 'name': 'AI & ML Community'},\n",
       "  {'id': 104, 'name': 'Web Dev Hub'}]}"
      ]
     },
     "execution_count": 21,
     "metadata": {},
     "output_type": "execute_result"
    }
   ],
   "source": [
    "data"
   ]
  },
  {
   "cell_type": "code",
   "execution_count": 25,
   "id": "34956f61-8cff-46fe-bd72-7146a5dad031",
   "metadata": {},
   "outputs": [
    {
     "data": {
      "text/plain": [
       "dict"
      ]
     },
     "execution_count": 25,
     "metadata": {},
     "output_type": "execute_result"
    }
   ],
   "source": [
    "type(data)"
   ]
  },
  {
   "cell_type": "code",
   "execution_count": 41,
   "id": "e2aa192d-cc30-4644-8bae-494a8ca5fdd6",
   "metadata": {},
   "outputs": [
    {
     "name": "stdout",
     "output_type": "stream",
     "text": [
      "User and their connections:\n",
      "\n",
      "ID: 1 -> Amit is friends with :[2, 3] and liked pages are[101]\n",
      "ID: 2 -> Priya is friends with :[1, 4] and liked pages are[102]\n",
      "ID: 3 -> Rahul is friends with :[1] and liked pages are[101, 103]\n",
      "ID: 4 -> Sara is friends with :[2] and liked pages are[104]\n",
      "\n",
      "Pages Information\n",
      "101: Python Developers\n",
      "102: Data Science Enthusiasts\n",
      "103: AI & ML Community\n",
      "104: Web Dev Hub\n"
     ]
    }
   ],
   "source": [
    "#function to dispay user and their connection\n",
    "def display_user(data):\n",
    "    print(\"User and their connections:\\n\")\n",
    "    for user in data['users']:\n",
    "        print(f\"ID: {user['id']} -> {user['name']} is friends with :{user['friends']} and liked pages are{user['liked_pages']}\")\n",
    "    print(\"\\nPages Information\")    \n",
    "    for page in data['pages']:\n",
    "        print(f\"{page['id']}: {page['name']}\")\n",
    "\n",
    "display_user(data)"
   ]
  },
  {
   "cell_type": "markdown",
   "id": "8511ca99-17a4-4201-a158-a4d644f5c0e6",
   "metadata": {},
   "source": [
    "## data cleaning"
   ]
  },
  {
   "cell_type": "code",
   "execution_count": 19,
   "id": "c1a3f66a-af1a-4a6a-9e79-9110dafcc5e8",
   "metadata": {},
   "outputs": [
    {
     "name": "stdout",
     "output_type": "stream",
     "text": [
      "Data has been cleaned successfully\n"
     ]
    }
   ],
   "source": [
    "import json\n",
    "\n",
    "def clean_data(data):\n",
    "    #remove user with missing name\n",
    "    data[\"users\"]=[user for user in data[\"users\"] if user[\"name\"].strip()]\n",
    "    #to remove duplicate friends\n",
    "    for user in data[\"users\"]: \n",
    "        user[\"friends\"]=list(set(user['friends']))\n",
    "    #remove inactive user\n",
    "    data['users']=[user for user in data['users'] if user['friends'] or user['liked_pages']]\n",
    "\n",
    "    #remve duplicate pages\n",
    "    unique_pages={}\n",
    "    for page in data['pages']:\n",
    "        unique_pages[page['id']]=page\n",
    "    data['pages']=list(unique_pages.values())\n",
    "        \n",
    "    \n",
    "    return data\n",
    "    \n",
    "\n",
    "\n",
    "#load data\n",
    "\n",
    "data=json.load(open(\"data2.json\"))\n",
    "data=clean_data(data)\n",
    "json.dump(data, open(\"cleaned_data2.json\",\"w\"),indent=4)\n",
    "print(\"Data has been cleaned successfully\")"
   ]
  },
  {
   "cell_type": "markdown",
   "id": "56459768-43d3-4848-9a43-35f8b5a51418",
   "metadata": {},
   "source": [
    "## people you may know"
   ]
  },
  {
   "cell_type": "code",
   "execution_count": 2,
   "id": "288a480d-5657-4582-9ab9-cfc900ef4bb3",
   "metadata": {},
   "outputs": [],
   "source": [
    "import json"
   ]
  },
  {
   "cell_type": "code",
   "execution_count": 24,
   "id": "12f26ec9-c120-4bb2-890b-5e4ede0c86e1",
   "metadata": {},
   "outputs": [
    {
     "name": "stdout",
     "output_type": "stream",
     "text": [
      "[4]\n"
     ]
    }
   ],
   "source": [
    "def load_data(filename):\n",
    "    with open(filename,\"r\")as f:\n",
    "        return json.load(f)\n",
    "def findpeopleuknow(user_id, data):\n",
    "    user_friends={}\n",
    "    for user in data['users']:\n",
    "        user_friends[user['id']]=set(user['friends'])\n",
    "    if user_id not in user_friends:\n",
    "        return []\n",
    "    direct_friends=user_friends[user_id]\n",
    "    suggestions={}\n",
    "    for friend in direct_friends:\n",
    "        for mutual in user_friends[friend]:\n",
    "            if mutual!=user_id and mutual not in direct_friends:\n",
    "                #count mutual frnds\n",
    "                suggestions[mutual]=suggestions.get(mutual,0)+ 1\n",
    "    sorted_suggestions=sorted(suggestions.items(),key=lambda x:x[1],reverse=True)\n",
    "    return [user_id for user_id,mutual_count in sorted_suggestions]\n",
    "#load data\n",
    "data=load_data(\"datas.json\")\n",
    "user_id=1\n",
    "recomd=findpeopleuknow(user_id,data)\n",
    "print(recomd)\n"
   ]
  },
  {
   "cell_type": "markdown",
   "id": "e085b484-4502-441b-a539-d5781d130c7d",
   "metadata": {},
   "source": [
    "## pages you might like"
   ]
  },
  {
   "cell_type": "code",
   "execution_count": 54,
   "id": "b25b785c-0b39-4861-99dd-cf9bbc2414e4",
   "metadata": {},
   "outputs": [
    {
     "name": "stdout",
     "output_type": "stream",
     "text": [
      "[103, 102, 104]\n"
     ]
    }
   ],
   "source": [
    "import json\n",
    "\n",
    "#function to load json data\n",
    "def load_data(filename):\n",
    "    with open(filename,\"r\") as f :\n",
    "        return json.load(f)\n",
    "\n",
    "def pagesumightlike(user_id,data):\n",
    "    user_pages={}\n",
    "    for user in data['users']:\n",
    "        user_pages[user['id']]=set(user['liked_pages'])\n",
    "    #if the user is not found return empty list\n",
    "    if user_id not in user_pages:\n",
    "        return []\n",
    "    user_liked_pages=user_pages[user_id]\n",
    "    page_suggestion={}\n",
    "\n",
    "    for other_user,pages in user_pages.items():\n",
    "        if other_user !=user_id:\n",
    "            shared_pages=user_liked_pages.intersection(pages)\n",
    "        for page in pages:\n",
    "            if page not in user_liked_pages:\n",
    "                page_suggestion[page]=page_suggestion.get(page,0) + len(shared_pages)\n",
    "\n",
    "    sorted_pages=sorted(page_suggestion.items(),key=lambda x:x[1],reverse=True)\n",
    "    return [page_id for page_id,score in sorted_pages]\n",
    "\n",
    "data=load_data(\"datas.json\")\n",
    "user_id=1\n",
    "page_recomd=pagesumightlike(user_id,data)\n",
    "print(page_recomd)\n",
    "            \n",
    "        "
   ]
  },
  {
   "cell_type": "code",
   "execution_count": 2,
   "id": "0d33c2fd-1f23-4cc5-8d7c-378a5eb64e82",
   "metadata": {},
   "outputs": [
    {
     "name": "stdout",
     "output_type": "stream",
     "text": [
      "Initialized empty Git repository in C:/Users/Tenzin Thinley/datasciencecourse/.git/\n"
     ]
    }
   ],
   "source": [
    "!git init\n"
   ]
  },
  {
   "cell_type": "code",
   "execution_count": null,
   "id": "48f5a6fa-8907-4d6f-89c4-84760201ef70",
   "metadata": {},
   "outputs": [],
   "source": [
    "!git config --global user.name \"tenzinthinley24\"\n",
    "!git config --gl"
   ]
  }
 ],
 "metadata": {
  "kernelspec": {
   "display_name": "Python [conda env:base] *",
   "language": "python",
   "name": "conda-base-py"
  },
  "language_info": {
   "codemirror_mode": {
    "name": "ipython",
    "version": 3
   },
   "file_extension": ".py",
   "mimetype": "text/x-python",
   "name": "python",
   "nbconvert_exporter": "python",
   "pygments_lexer": "ipython3",
   "version": "3.12.7"
  }
 },
 "nbformat": 4,
 "nbformat_minor": 5
}
